{
 "cells": [
  {
   "cell_type": "code",
   "execution_count": 3,
   "metadata": {},
   "outputs": [
    {
     "ename": "ModuleNotFoundError",
     "evalue": "No module named 'MySQLdb'",
     "output_type": "error",
     "traceback": [
      "\u001b[0;31m---------------------------------------------------------------------------\u001b[0m",
      "\u001b[0;31mModuleNotFoundError\u001b[0m                       Traceback (most recent call last)",
      "\u001b[0;32m<ipython-input-3-2cdfbdfbbc5c>\u001b[0m in \u001b[0;36m<module>\u001b[0;34m\u001b[0m\n\u001b[1;32m      1\u001b[0m \u001b[0;32mimport\u001b[0m \u001b[0mpandas\u001b[0m \u001b[0;32mas\u001b[0m \u001b[0mpd\u001b[0m\u001b[0;34m\u001b[0m\u001b[0;34m\u001b[0m\u001b[0m\n\u001b[1;32m      2\u001b[0m \u001b[0;32mfrom\u001b[0m \u001b[0mpandas\u001b[0m\u001b[0;34m.\u001b[0m\u001b[0mio\u001b[0m \u001b[0;32mimport\u001b[0m \u001b[0msql\u001b[0m\u001b[0;34m\u001b[0m\u001b[0;34m\u001b[0m\u001b[0m\n\u001b[0;32m----> 3\u001b[0;31m \u001b[0;32mimport\u001b[0m \u001b[0mMySQLdb\u001b[0m\u001b[0;34m\u001b[0m\u001b[0;34m\u001b[0m\u001b[0m\n\u001b[0m\u001b[1;32m      4\u001b[0m \u001b[0;32mimport\u001b[0m \u001b[0msys\u001b[0m\u001b[0;34m\u001b[0m\u001b[0;34m\u001b[0m\u001b[0m\n",
      "\u001b[0;31mModuleNotFoundError\u001b[0m: No module named 'MySQLdb'"
     ]
    }
   ],
   "source": [
    "import pandas as pd\n",
    "from pandas.io import sql\n",
    "import MySQLdb\n",
    "import sys\n"
   ]
  },
  {
   "cell_type": "code",
   "execution_count": 196,
   "metadata": {},
   "outputs": [],
   "source": [
    "input_file = \"/home/hurben/AnalysisLibrary/machine_learning/iris.txt\"\n",
    "my_passwd = \"hurhur\"\n"
   ]
  },
  {
   "cell_type": "code",
   "execution_count": 197,
   "metadata": {
    "scrolled": true
   },
   "outputs": [],
   "source": [
    "df = pd.read_csv(input_file, sep=\"\\t\")\n",
    "header_list = df.columns"
   ]
  },
  {
   "cell_type": "code",
   "execution_count": 199,
   "metadata": {},
   "outputs": [],
   "source": [
    "db = MySQLdb.connect(host=\"localhost\", \n",
    "                      user=\"ubuntu\", \n",
    "                      passwd=my_passwd,\n",
    "                      db=\"hurhur\") "
   ]
  },
  {
   "cell_type": "code",
   "execution_count": 200,
   "metadata": {},
   "outputs": [],
   "source": [
    "cur = db.cursor()\n",
    "\n",
    "sql_command = \"SHOW TABLES Like 'iris';\"\n",
    "check_table = cur.execute(sql_command)\n",
    "\n",
    "if check_table != None:\n",
    "    cur.execute(\"drop table iris;\")\n"
   ]
  },
  {
   "cell_type": "code",
   "execution_count": 201,
   "metadata": {},
   "outputs": [],
   "source": [
    "sql_command = \"create table iris (\"\n",
    "create_table = \"create table iris\"\n",
    "for header in header_list:\n",
    "    header = header.replace(' ','')\n",
    "    header = header.replace('(cm)','')\n",
    "    sql_command = '%s %s float NULL,' % (sql_command, header)\n",
    "sql_command = sql_command[:-1]\n",
    "sql_command = '%s);' % sql_command"
   ]
  },
  {
   "cell_type": "code",
   "execution_count": 202,
   "metadata": {},
   "outputs": [
    {
     "name": "stdout",
     "output_type": "stream",
     "text": [
      "create table iris ( sepallength float NULL, sepalwidth float NULL, petallength float NULL, petalwidth float NULL, label float NULL);\n"
     ]
    },
    {
     "data": {
      "text/plain": [
       "0L"
      ]
     },
     "execution_count": 202,
     "metadata": {},
     "output_type": "execute_result"
    }
   ],
   "source": [
    "print sql_command\n",
    "cur.execute(sql_command)"
   ]
  },
  {
   "cell_type": "code",
   "execution_count": 203,
   "metadata": {},
   "outputs": [
    {
     "data": {
      "text/plain": [
       "150L"
      ]
     },
     "execution_count": 203,
     "metadata": {},
     "output_type": "execute_result"
    }
   ],
   "source": [
    "sql_command = \"LOAD DATA LOCAL INFILE '%s' INTO TABLE iris IGNORE 1 LINES;\" % input_file\n",
    "cur.execute(sql_command)"
   ]
  },
  {
   "cell_type": "code",
   "execution_count": 204,
   "metadata": {},
   "outputs": [],
   "source": [
    "db.commit()"
   ]
  },
  {
   "cell_type": "code",
   "execution_count": 205,
   "metadata": {},
   "outputs": [],
   "source": [
    "sql_command = \"select * from iris;\"\n",
    "results = cur.execute(sql_command)"
   ]
  },
  {
   "cell_type": "code",
   "execution_count": 214,
   "metadata": {},
   "outputs": [
    {
     "name": "stdout",
     "output_type": "stream",
     "text": [
      "[(5.1,), (4.9,), (4.7,), (4.6,), (5.0,), (5.4,), (4.6,), (5.0,), (4.4,), (4.9,), (5.4,), (4.8,), (4.8,), (4.3,), (5.8,), (5.7,), (5.4,), (5.1,), (5.7,), (5.1,), (5.4,), (5.1,), (4.6,), (5.1,), (4.8,), (5.0,), (5.0,), (5.2,), (5.2,), (4.7,), (4.8,), (5.4,), (5.2,), (5.5,), (4.9,), (5.0,), (5.5,), (4.9,), (4.4,), (5.1,), (5.0,), (4.5,), (4.4,), (5.0,), (5.1,), (4.8,), (5.1,), (4.6,), (5.3,), (5.0,), (7.0,), (6.4,), (6.9,), (5.5,), (6.5,), (5.7,), (6.3,), (4.9,), (6.6,), (5.2,), (5.0,), (5.9,), (6.0,), (6.1,), (5.6,), (6.7,), (5.6,), (5.8,), (6.2,), (5.6,), (5.9,), (6.1,), (6.3,), (6.1,), (6.4,), (6.6,), (6.8,), (6.7,), (6.0,), (5.7,), (5.5,), (5.5,), (5.8,), (6.0,), (5.4,), (6.0,), (6.7,), (6.3,), (5.6,), (5.5,), (5.5,), (6.1,), (5.8,), (5.0,), (5.6,), (5.7,), (5.7,), (6.2,), (5.1,), (5.7,), (6.3,), (5.8,), (7.1,), (6.3,), (6.5,), (7.6,), (4.9,), (7.3,), (6.7,), (7.2,), (6.5,), (6.4,), (6.8,), (5.7,), (5.8,), (6.4,), (6.5,), (7.7,), (7.7,), (6.0,), (6.9,), (5.6,), (7.7,), (6.3,), (6.7,), (7.2,), (6.2,), (6.1,), (6.4,), (7.2,), (7.4,), (7.9,), (6.4,), (6.3,), (6.1,), (7.7,), (6.3,), (6.4,), (6.0,), (6.9,), (6.7,), (6.9,), (5.8,), (6.8,), (6.7,), (6.7,), (6.3,), (6.5,), (6.2,), (5.9,)]\n"
     ]
    }
   ],
   "source": [
    "sql_command = \"select sepallength from iris;\"\n",
    "results = cur.execute(sql_command)\n",
    "results = cur.fetchall()\n",
    "print list(results)"
   ]
  },
  {
   "cell_type": "code",
   "execution_count": 215,
   "metadata": {},
   "outputs": [
    {
     "name": "stdout",
     "output_type": "stream",
     "text": [
      "       0\n",
      "0    5.1\n",
      "1    4.9\n",
      "2    4.7\n",
      "3    4.6\n",
      "4    5.0\n",
      "5    5.4\n",
      "6    4.6\n",
      "7    5.0\n",
      "8    4.4\n",
      "9    4.9\n",
      "10   5.4\n",
      "11   4.8\n",
      "12   4.8\n",
      "13   4.3\n",
      "14   5.8\n",
      "15   5.7\n",
      "16   5.4\n",
      "17   5.1\n",
      "18   5.7\n",
      "19   5.1\n",
      "20   5.4\n",
      "21   5.1\n",
      "22   4.6\n",
      "23   5.1\n",
      "24   4.8\n",
      "25   5.0\n",
      "26   5.0\n",
      "27   5.2\n",
      "28   5.2\n",
      "29   4.7\n",
      "..   ...\n",
      "120  6.9\n",
      "121  5.6\n",
      "122  7.7\n",
      "123  6.3\n",
      "124  6.7\n",
      "125  7.2\n",
      "126  6.2\n",
      "127  6.1\n",
      "128  6.4\n",
      "129  7.2\n",
      "130  7.4\n",
      "131  7.9\n",
      "132  6.4\n",
      "133  6.3\n",
      "134  6.1\n",
      "135  7.7\n",
      "136  6.3\n",
      "137  6.4\n",
      "138  6.0\n",
      "139  6.9\n",
      "140  6.7\n",
      "141  6.9\n",
      "142  5.8\n",
      "143  6.8\n",
      "144  6.7\n",
      "145  6.7\n",
      "146  6.3\n",
      "147  6.5\n",
      "148  6.2\n",
      "149  5.9\n",
      "\n",
      "[150 rows x 1 columns]\n"
     ]
    }
   ],
   "source": [
    "#just for my own test\n",
    "df = pd.DataFrame(list(results))\n",
    "print df"
   ]
  },
  {
   "cell_type": "code",
   "execution_count": null,
   "metadata": {},
   "outputs": [],
   "source": []
  },
  {
   "cell_type": "code",
   "execution_count": null,
   "metadata": {},
   "outputs": [],
   "source": []
  },
  {
   "cell_type": "code",
   "execution_count": null,
   "metadata": {},
   "outputs": [],
   "source": []
  },
  {
   "cell_type": "code",
   "execution_count": null,
   "metadata": {},
   "outputs": [],
   "source": []
  }
 ],
 "metadata": {
  "kernelspec": {
   "display_name": "Python 3",
   "language": "python",
   "name": "python3"
  },
  "language_info": {
   "codemirror_mode": {
    "name": "ipython",
    "version": 3
   },
   "file_extension": ".py",
   "mimetype": "text/x-python",
   "name": "python",
   "nbconvert_exporter": "python",
   "pygments_lexer": "ipython3",
   "version": "3.7.1"
  }
 },
 "nbformat": 4,
 "nbformat_minor": 2
}
