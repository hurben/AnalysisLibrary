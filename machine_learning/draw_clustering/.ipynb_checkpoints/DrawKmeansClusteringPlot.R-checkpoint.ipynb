{
 "cells": [
  {
   "cell_type": "code",
   "execution_count": 40,
   "metadata": {},
   "outputs": [
    {
     "data": {
      "text/html": [
       "'/home/hurben/AnalysisLibrary/machine_learning/iris.txt'"
      ],
      "text/latex": [
       "'/home/hurben/AnalysisLibrary/machine\\_learning/iris.txt'"
      ],
      "text/markdown": [
       "'/home/hurben/AnalysisLibrary/machine_learning/iris.txt'"
      ],
      "text/plain": [
       "[1] \"/home/hurben/AnalysisLibrary/machine_learning/iris.txt\""
      ]
     },
     "metadata": {},
     "output_type": "display_data"
    }
   ],
   "source": [
    "data_file <- \"/home/hurben/AnalysisLibrary/machine_learning/iris.txt\"\n",
    "data_file\n",
    "number_of_clustering <- 3"
   ]
  },
  {
   "cell_type": "code",
   "execution_count": 52,
   "metadata": {},
   "outputs": [
    {
     "data": {
      "text/html": [
       "<ol class=list-inline>\n",
       "\t<li>'sepal.length..cm.'</li>\n",
       "\t<li>'sepal.width..cm.'</li>\n",
       "\t<li>'petal.length..cm.'</li>\n",
       "\t<li>'petal.width..cm.'</li>\n",
       "\t<li>'label'</li>\n",
       "</ol>\n"
      ],
      "text/latex": [
       "\\begin{enumerate*}\n",
       "\\item 'sepal.length..cm.'\n",
       "\\item 'sepal.width..cm.'\n",
       "\\item 'petal.length..cm.'\n",
       "\\item 'petal.width..cm.'\n",
       "\\item 'label'\n",
       "\\end{enumerate*}\n"
      ],
      "text/markdown": [
       "1. 'sepal.length..cm.'\n",
       "2. 'sepal.width..cm.'\n",
       "3. 'petal.length..cm.'\n",
       "4. 'petal.width..cm.'\n",
       "5. 'label'\n",
       "\n",
       "\n"
      ],
      "text/plain": [
       "[1] \"sepal.length..cm.\" \"sepal.width..cm.\"  \"petal.length..cm.\"\n",
       "[4] \"petal.width..cm.\"  \"label\"            "
      ]
     },
     "metadata": {},
     "output_type": "display_data"
    }
   ],
   "source": [
    "dataframe <- read.table(data_file, header=TRUE, sep=\"\\t\")\n",
    "colnames(dataframe)\n",
    "colnames(dataframe) <- c('feature1', 'feature2')"
   ]
  },
  {
   "cell_type": "code",
   "execution_count": 53,
   "metadata": {},
   "outputs": [
    {
     "data": {
      "text/plain": [
       "K-means clustering with 3 clusters of sizes 49, 51, 45\n",
       "\n",
       "Cluster means:\n",
       "  feature1 feature2\n",
       "1 5.018367 3.426531\n",
       "2 5.752941 2.698039\n",
       "3 6.773333 3.046667\n",
       "\n",
       "Clustering vector:\n",
       " 21  54 144   3  47  18 143  32  79  51 150   9 139  59  77  70  38   1  97 137 \n",
       "  1   2   3   1   1   1   2   1   2   3   2   1   2   3   3   2   1   1   2   3 \n",
       "107  83 140 119  40  86  56  52  66  23 147 135  80 101 134  99  20  50  41  33 \n",
       "  2   2   3   3   1   2   2   3   3   1   2   2   2   3   3   2   1   1   1   1 \n",
       " 12  58  53  44  95  45  92  35  72 125  81  82  10 108   4 133 142   7  11  22 \n",
       "  1   2   3   1   2   1   2   1   2   3   2   2   1   3   1   3   3   1   1   1 \n",
       " 67  74 136  16  94  96 145  60  78  63  19  31  61  68  65 113  15 128 112 148 \n",
       "  2   2   3   1   2   2   3   2   3   2   1   1   2   2   2   3   1   2   3   3 \n",
       "111 109  26 123 100 104  76 110 146 117  48 130  84  73  24  49 124  25 105  71 \n",
       "  3   3   1   3   2   3   3   3   3   3   1   3   2   2   1   1   2   1   3   2 \n",
       " 90   2  64 122 118  37 102  43  98  75 114 115  14  34 116  62  17 120  46  30 \n",
       "  2   1   2   2   3   1   2   1   2   3   2   2   1   1   3   2   1   2   1   1 \n",
       "127 138  91 103 131  13  55 141  93  28  89 129   6   5  69  85  87 121  27  29 \n",
       "  2   3   2   3   3   1   3   3   2   1   2   3   1   1   2   2   3   3   1   1 \n",
       "126   8  57  42  36 \n",
       "  3   1   3   1   1 \n",
       "\n",
       "Within cluster sum of squares by cluster:\n",
       "[1] 12.64898 10.55686 10.04000\n",
       " (between_SS / total_SS =  72.1 %)\n",
       "\n",
       "Available components:\n",
       "\n",
       "[1] \"cluster\"      \"centers\"      \"totss\"        \"withinss\"     \"tot.withinss\"\n",
       "[6] \"betweenss\"    \"size\"         \"iter\"         \"ifault\"      "
      ]
     },
     "metadata": {},
     "output_type": "display_data"
    }
   ],
   "source": [
    "#shuffle dataframe for test purpose\n",
    "#\n",
    "shuffled_dataframe <- dataframe[sample(nrow(dataframe)),]\n",
    "model_dataframe <- shuffled_dataframe[0:145,1:2]\n",
    "test_dataframe <- shuffled_dataframe[145:150,1:2]\n",
    "#\n",
    "#\n",
    "#\n",
    "#-----------------------\n",
    "\n",
    "\n",
    "\n",
    "#Run K-means clustering. \n",
    "kc <- kmeans(model_dataframe, number_of_clustering)\n",
    "kc\n"
   ]
  },
  {
   "cell_type": "code",
   "execution_count": 54,
   "metadata": {},
   "outputs": [
    {
     "data": {
      "text/html": [
       "<table>\n",
       "<caption>A matrix: 3 × 2 of type dbl</caption>\n",
       "<thead>\n",
       "\t<tr><th scope=col>feature1</th><th scope=col>feature2</th></tr>\n",
       "</thead>\n",
       "<tbody>\n",
       "\t<tr><td>5.018367</td><td>3.426531</td></tr>\n",
       "\t<tr><td>5.752941</td><td>2.698039</td></tr>\n",
       "\t<tr><td>6.773333</td><td>3.046667</td></tr>\n",
       "</tbody>\n",
       "</table>\n"
      ],
      "text/latex": [
       "A matrix: 3 × 2 of type dbl\n",
       "\\begin{tabular}{r|ll}\n",
       " feature1 & feature2\\\\\n",
       "\\hline\n",
       "\t 5.018367 & 3.426531\\\\\n",
       "\t 5.752941 & 2.698039\\\\\n",
       "\t 6.773333 & 3.046667\\\\\n",
       "\\end{tabular}\n"
      ],
      "text/markdown": [
       "\n",
       "A matrix: 3 × 2 of type dbl\n",
       "\n",
       "| feature1 | feature2 |\n",
       "|---|---|\n",
       "| 5.018367 | 3.426531 |\n",
       "| 5.752941 | 2.698039 |\n",
       "| 6.773333 | 3.046667 |\n",
       "\n"
      ],
      "text/plain": [
       "  feature1 feature2\n",
       "1 5.018367 3.426531\n",
       "2 5.752941 2.698039\n",
       "3 6.773333 3.046667"
      ]
     },
     "metadata": {},
     "output_type": "display_data"
    }
   ],
   "source": [
    "kc$centers"
   ]
  },
  {
   "cell_type": "code",
   "execution_count": 63,
   "metadata": {},
   "outputs": [
    {
     "data": {
      "image/png": "[encoded data removed]",
      "text/plain": [
       "plot without title"
      ]
     },
     "metadata": {},
     "output_type": "display_data"
    }
   ],
   "source": [
    "plot(model_dataframe, col=kc$cluster, cex=1, pch=20) \n",
    "points(kc$centers, col=1:3, pch=23, cex=2) \n"
   ]
  },
  {
   "cell_type": "code",
   "execution_count": 57,
   "metadata": {
    "scrolled": true
   },
   "outputs": [
    {
     "ename": "ERROR",
     "evalue": "Error in plot.xy(xy.coords(x, y), type = type, ...): plot.new has not been called yet\n",
     "output_type": "error",
     "traceback": [
      "Error in plot.xy(xy.coords(x, y), type = type, ...): plot.new has not been called yet\nTraceback:\n",
      "1. points(kc$centers[, c(\"feature1\", \"feature2\")], col = 1:3, pch = 23, \n .     cex = 2)",
      "2. points.default(kc$centers[, c(\"feature1\", \"feature2\")], col = 1:3, \n .     pch = 23, cex = 2)",
      "3. plot.xy(xy.coords(x, y), type = type, ...)"
     ]
    }
   ],
   "source": [
    "\n"
   ]
  },
  {
   "cell_type": "code",
   "execution_count": 46,
   "metadata": {},
   "outputs": [
    {
     "ename": "ERROR",
     "evalue": "Error in plot.xy(xy.coords(x, y), type = type, ...): plot.new has not been called yet\n",
     "output_type": "error",
     "traceback": [
      "Error in plot.xy(xy.coords(x, y), type = type, ...): plot.new has not been called yet\nTraceback:\n",
      "1. points(model_dataframe, col = iris[, 5], pch = 21, cex = 1.4)",
      "2. points.default(model_dataframe, col = iris[, 5], pch = 21, cex = 1.4)",
      "3. plot.xy(xy.coords(x, y), type = type, ...)"
     ]
    }
   ],
   "source": []
  },
  {
   "cell_type": "code",
   "execution_count": null,
   "metadata": {},
   "outputs": [],
   "source": []
  },
  {
   "cell_type": "code",
   "execution_count": null,
   "metadata": {},
   "outputs": [],
   "source": []
  },
  {
   "cell_type": "code",
   "execution_count": null,
   "metadata": {},
   "outputs": [],
   "source": []
  }
 ],
 "metadata": {
  "kernelspec": {
   "display_name": "R",
   "language": "R",
   "name": "ir"
  },
  "language_info": {
   "codemirror_mode": "r",
   "file_extension": ".r",
   "mimetype": "text/x-r-source",
   "name": "R",
   "pygments_lexer": "r",
   "version": "3.5.3"
  }
 },
 "nbformat": 4,
 "nbformat_minor": 2
}
