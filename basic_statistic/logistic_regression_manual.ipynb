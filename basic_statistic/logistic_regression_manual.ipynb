{
 "cells": [
  {
   "cell_type": "code",
   "execution_count": 138,
   "metadata": {},
   "outputs": [],
   "source": [
    "import numpy as np\n",
    "import matplotlib.pyplot as plt\n",
    "import pandas as pd\n",
    "from scipy import interp\n",
    "\n",
    "from sklearn.linear_model import LogisticRegression\n",
    "from sklearn import linear_model\n",
    "from scipy.special import expit\n",
    "import seaborn as sns\n",
    "\n",
    "from sklearn.model_selection import KFold\n",
    "from sklearn.model_selection import cross_val_score\n",
    "from sklearn.preprocessing import label_binarize\n",
    "\n",
    "from sklearn.metrics import roc_curve\n",
    "\n",
    "from sklearn.model_selection import StratifiedKFold\n",
    "\n",
    "from sklearn.tree import DecisionTreeClassifier\n",
    "from sklearn.svm import SVC\n",
    "from sklearn import svm"
   ]
  },
  {
   "cell_type": "code",
   "execution_count": 139,
   "metadata": {},
   "outputs": [
    {
     "name": "stdout",
     "output_type": "stream",
     "text": [
      "1.0\n",
      "1.0\n",
      "1.0\n",
      "1.0\n",
      "1.0\n"
     ]
    }
   ],
   "source": [
    "input_file = '/home/hurben/AnalysisLibrary/machine_learning/test_run/data.list'\n",
    "#print (iris_dataframe.iloc[:,1])\n",
    "#print (iris_dataframe.iloc[:,4])\n",
    "\n",
    "input_file = open(input_file,'r')\n",
    "input_readlines = input_file.readlines()\n",
    "\n",
    "for i in range(len(input_readlines)):\n",
    "\n",
    "    read = input_readlines[i]\n",
    "    read = read.replace('\\n','')\n",
    "\n",
    "    token = read.split('\\t')\n",
    "    train_data = token[0]\n",
    "    test_data = token[1]\n",
    "\n",
    "    train_dataframe = pd.read_csv(train_data, sep='\\t')\n",
    "    x_train = train_dataframe.iloc[:,:-1].values\n",
    "    y_train = train_dataframe.iloc[:,-1].values\n",
    "    #important note : .values is necessary because we neet to make it as array.\n",
    "    #not as a dataframe\n",
    "\n",
    "    test_dataframe = pd.read_csv(test_data, sep='\\t')\n",
    "    x_test = test_dataframe.iloc[:,:-1].values\n",
    "    y_test = test_dataframe.iloc[:,-1].values\n",
    "\n",
    "    \n",
    "    clf = LogisticRegression()\n",
    "    clf.fit(x_train,y_train)\n",
    "    predict = clf.predict(x_test)\n",
    "    accuracy = sum(1 for x,y in zip(predict,y_test) if x == y) / float(len(y_test))\n",
    "    \n",
    "#     print ('##################')\n",
    "    print(accuracy)\n",
    "#     print ('##################')\n",
    "    \n"
   ]
  },
  {
   "cell_type": "code",
   "execution_count": null,
   "metadata": {},
   "outputs": [],
   "source": []
  }
 ],
 "metadata": {
  "kernelspec": {
   "display_name": "Python 3",
   "language": "python",
   "name": "python3"
  },
  "language_info": {
   "codemirror_mode": {
    "name": "ipython",
    "version": 3
   },
   "file_extension": ".py",
   "mimetype": "text/x-python",
   "name": "python",
   "nbconvert_exporter": "python",
   "pygments_lexer": "ipython3",
   "version": "3.7.1"
  }
 },
 "nbformat": 4,
 "nbformat_minor": 2
}
