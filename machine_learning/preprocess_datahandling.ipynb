{
 "cells": [
  {
   "cell_type": "code",
   "execution_count": 76,
   "metadata": {},
   "outputs": [],
   "source": [
    "#---------------------preprocess_datahandling  19.06.17\n",
    "#\n",
    "#Do some preprocessing, if necessary\n",
    "#\n",
    "#---------------------------------------------------\n",
    "\n",
    "if __name__ == \"__main__\":\n",
    "        \n",
    "    import sys\n",
    "    import os\n",
    "    import argparse\n",
    "    import pandas as pd\n",
    "\n",
    "    #input_file = sys.argv[1]\n",
    "    input_file = '/home/hurben/AnalysisLibrary/machine_learning/test_data/iris.bias.missing.value.txt'\n",
    "    #input_file = '/home/hurben/AnalysisLibrary/machine_learning/test_data/iris.txt'\n",
    "    input_dataframe = pd.read_csv(input_file, sep=\"\\t\")\n",
    "    null_columns_list = input_dataframe.columns[input_dataframe.isnull().any()]\n",
    "#    print (input_dataframe)"
   ]
  },
  {
   "cell_type": "code",
   "execution_count": 74,
   "metadata": {},
   "outputs": [
    {
     "name": "stdout",
     "output_type": "stream",
     "text": [
      "Detected value nan > Index(['sepal width (cm)', 'petal length (cm)', 'petal width (cm)'], dtype='object')\n",
      "Decide your method to handle this situation\n",
      "1: mean, 2: median, 3: remove\n",
      ">3\n"
     ]
    }
   ],
   "source": [
    "if len(null_columns_list) != 0:\n",
    "    \n",
    "    print (\"Detected value nan > %s\" % null_columns_list)\n",
    "    print (\"Decide your method to handle this situation\")\n",
    "    print (\"1: mean, 2: median, 3: remove\")\n",
    "    method = input(\">\")"
   ]
  },
  {
   "cell_type": "code",
   "execution_count": 78,
   "metadata": {},
   "outputs": [],
   "source": [
    "if method == '1':\n",
    "    means = input_dataframe.mean()\n",
    "    new_input_dataframe = input_dataframe.fillna(means)\n",
    "    \n",
    "if method == '2':\n",
    "    median = input_dataframe.median()\n",
    "    new_input_dataframe = input_dataframe.fillna(median)\n",
    "\n",
    "if method == '3':\n",
    "    new_input_dataframe = input_dataframe.dropna()\n",
    "    \n",
    "#print (new_input_dataframe)\n",
    "\n",
    "\n"
   ]
  },
  {
   "cell_type": "code",
   "execution_count": 83,
   "metadata": {},
   "outputs": [],
   "source": [
    "output_file = ('%s.%s' % (input_file,'new'))\n",
    "new_input_dataframe.to_csv(output_file, sep=\"\\t\", index=False)"
   ]
  },
  {
   "cell_type": "code",
   "execution_count": null,
   "metadata": {},
   "outputs": [],
   "source": []
  }
 ],
 "metadata": {
  "kernelspec": {
   "display_name": "Python 3",
   "language": "python",
   "name": "python3"
  },
  "language_info": {
   "codemirror_mode": {
    "name": "ipython",
    "version": 3
   },
   "file_extension": ".py",
   "mimetype": "text/x-python",
   "name": "python",
   "nbconvert_exporter": "python",
   "pygments_lexer": "ipython3",
   "version": "3.7.1"
  }
 },
 "nbformat": 4,
 "nbformat_minor": 2
}
